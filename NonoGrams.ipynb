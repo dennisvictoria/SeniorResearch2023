{
  "nbformat": 4,
  "nbformat_minor": 0,
  "metadata": {
    "colab": {
      "provenance": [],
      "authorship_tag": "ABX9TyM6/Vsm+XeGRqT9tWUcuYZW",
      "include_colab_link": true
    },
    "kernelspec": {
      "name": "python3",
      "display_name": "Python 3"
    },
    "language_info": {
      "name": "python"
    }
  },
  "cells": [
    {
      "cell_type": "markdown",
      "metadata": {
        "id": "view-in-github",
        "colab_type": "text"
      },
      "source": [
        "<a href=\"https://colab.research.google.com/github/dennisvictoria/SeniorResearch2023/blob/main/NonoGrams.ipynb\" target=\"_parent\"><img src=\"https://colab.research.google.com/assets/colab-badge.svg\" alt=\"Open In Colab\"/></a>"
      ]
    },
    {
      "cell_type": "markdown",
      "source": [
        "The first half of this project, I just wanted to get a feel for how the code works, and after many extensive hours on youtube and Discord, I think I've finally figured it out."
      ],
      "metadata": {
        "id": "VKG_x058NGDG"
      }
    },
    {
      "cell_type": "markdown",
      "source": [
        "Victoria Dennis\n",
        "CSC 375: Artifical Intelligence"
      ],
      "metadata": {
        "id": "1SeOCZDc_Eqy"
      }
    },
    {
      "cell_type": "code",
      "source": [
        "pip install Pillow"
      ],
      "metadata": {
        "id": "Ut_K4aiENnDS"
      },
      "execution_count": null,
      "outputs": []
    },
    {
      "cell_type": "code",
      "source": [
        "from PIL import Image, ImageDraw\n",
        "grid_size = 10 \n",
        "pixel_size = 50 #size of each cell in pixcels\n",
        "img_size = grid_size * pixel_size\n",
        "\n",
        "image = Image.new(\"RGB\", (img_size, img_size), \"white\")\n",
        "draw = ImageDraw.Draw(image)\n"
      ],
      "metadata": {
        "id": "3BA4xpt-BcsO"
      },
      "execution_count": 60,
      "outputs": []
    },
    {
      "cell_type": "markdown",
      "source": [
        "So first up is defining the size of the nonogram grid and then putting in a random number for the size of each cell in pixels. I was sleep deprived when I did this. The Python Imaging Library is being used and a new image is created based on the grid and pixel size."
      ],
      "metadata": {
        "id": "LFQGMEfWN3Wq"
      }
    },
    {
      "cell_type": "code",
      "source": [
        "# Define the solution for the heart-shaped nonogram\n",
        "solution = [\n",
        "    [0, 0, 1, 1, 0, 0, 1, 1, 0, 0],  # Row 1\n",
        "    [0, 1, 1, 1, 1, 1, 1, 1, 1, 0],  # Row 2\n",
        "    [1, 1, 1, 1, 1, 1, 1, 1, 1, 1],  # Row 3\n",
        "    [1, 1, 1, 1, 1, 1, 1, 1, 1, 1],  # Row 4\n",
        "    [0, 1, 1, 1, 1, 1, 1, 1, 1, 0],  # Row 5\n",
        "    [0, 0, 1, 1, 1, 1, 1, 1, 0, 0],  # Row 6\n",
        "    [0, 0, 0, 1, 1, 1, 1, 0, 0, 0],  # Row 7\n",
        "    [0, 0, 0, 0, 1, 1, 0, 0, 0, 0],  # Row 8\n",
        "    [0, 0, 0, 0, 0, 0, 0, 0, 0, 0],  # Row 9\n",
        "    [0, 0, 0, 0, 0, 0, 0, 0, 0, 0]   # Row 10\n",
        "]"
      ],
      "metadata": {
        "id": "CdBNHKyLHvZw"
      },
      "execution_count": 61,
      "outputs": []
    },
    {
      "cell_type": "markdown",
      "source": [
        "I set a solution variable as a nested list; each inner list represents a row of the grid (0 for empty, 1 for filled). I had orginally labeled each row for a more complex (and kind of dumb) idea. "
      ],
      "metadata": {
        "id": "-ML2n_tNObwy"
      }
    },
    {
      "cell_type": "code",
      "source": [
        "for row in range(grid_size):\n",
        "    for col in range(grid_size):\n",
        "        if solution[row][col] == 1:\n",
        "            print(\"+\", end=\"\")\n",
        "        else:\n",
        "            print(\" \", end=\"\")\n",
        "    print()"
      ],
      "metadata": {
        "colab": {
          "base_uri": "https://localhost:8080/"
        },
        "id": "1257qgdMF837",
        "outputId": "7da20307-a2fe-4b09-8692-931abaab5c81"
      },
      "execution_count": 64,
      "outputs": [
        {
          "output_type": "stream",
          "name": "stdout",
          "text": [
            "  ++  ++  \n",
            " ++++++++ \n",
            "++++++++++\n",
            "++++++++++\n",
            " ++++++++ \n",
            "  ++++++  \n",
            "   ++++   \n",
            "    ++    \n",
            "          \n",
            "          \n"
          ]
        }
      ]
    },
    {
      "cell_type": "markdown",
      "source": [
        "I had a nested loop iterate over each cell in the solution grid; when a cell contains a 1, a plus sign is printed. Otherwise, an empty cell is printed. "
      ],
      "metadata": {
        "id": "lmc8Kn3aPOn1"
      }
    },
    {
      "cell_type": "markdown",
      "source": [],
      "metadata": {
        "id": "R8m991QkPo6t"
      }
    },
    {
      "cell_type": "code",
      "source": [
        "def solve_nonogram_row(row, hints):\n",
        "    size = len(row)\n",
        "    hint_count = len(hints)\n",
        "    empty_row = [0] * size\n",
        "\n",
        "    def apply_hint_combinations(start, remaining_hints):\n",
        "        if start == size:\n",
        "            if remaining_hints == []:\n",
        "                return [row.copy()]\n",
        "            else:\n",
        "                return []\n",
        "\n",
        "        combinations = []\n",
        "        for hint in remaining_hints:\n",
        "            hint_size = hint\n",
        "            if start + hint_size <= size and row[start:start+hint_size] == empty_row[start:start+hint_size]:\n",
        "                new_row = row.copy()\n",
        "                new_row[start:start+hint_size] = [1] * hint_size\n",
        "                remaining = remaining_hints.copy()\n",
        "                remaining.remove(hint)\n",
        "                combinations += apply_hint_combinations(start + hint_size + 1, remaining)\n",
        "        return combinations\n",
        "\n",
        "    return apply_hint_combinations(0, hints)"
      ],
      "metadata": {
        "id": "UtSQ1W6MPvU5"
      },
      "execution_count": 65,
      "outputs": []
    },
    {
      "cell_type": "markdown",
      "source": [
        "So this was a second attempt at  nonograms, which I hadn't heard of until your class. I'm flying blind professor. In this segement, everythings is defined to solve a single row of the nonogram. I hope this is what you meant by entailment, if not that's fine too, I can check the textbook hopefully. "
      ],
      "metadata": {
        "id": "_9wEKS5WQJsy"
      }
    },
    {
      "cell_type": "code",
      "source": [
        "# Example usage\n",
        "row = [0, 0, 0, 0, 0]\n",
        "hints = [3]\n",
        "solutions = solve_nonogram_row(row, hints)\n",
        "\n",
        "for solution in solutions:\n",
        "    for cell in solution:\n",
        "        if cell == 1:\n",
        "            print(\"+\", end=\" \")\n",
        "        else:\n",
        "            print(\".\", end=\" \")\n",
        "    print()\n"
      ],
      "metadata": {
        "id": "Hpi1tCh6Mzfv"
      },
      "execution_count": 67,
      "outputs": []
    },
    {
      "cell_type": "markdown",
      "source": [
        "The solutions are iterated and whenever a solution is found, the cells are printed."
      ],
      "metadata": {
        "id": "c8cArMgcQnpk"
      }
    },
    {
      "cell_type": "code",
      "source": [
        "print(solution)"
      ],
      "metadata": {
        "colab": {
          "base_uri": "https://localhost:8080/"
        },
        "id": "da0xsnDLM1CM",
        "outputId": "4bc9db94-73d8-45d9-8565-c32b14c11a4c"
      },
      "execution_count": 71,
      "outputs": [
        {
          "output_type": "stream",
          "name": "stdout",
          "text": [
            "[[0, 0, 1, 1, 0, 0, 1, 1, 0, 0], [0, 1, 1, 1, 1, 1, 1, 1, 1, 0], [1, 1, 1, 1, 1, 1, 1, 1, 1, 1], [1, 1, 1, 1, 1, 1, 1, 1, 1, 1], [0, 1, 1, 1, 1, 1, 1, 1, 1, 0], [0, 0, 1, 1, 1, 1, 1, 1, 0, 0], [0, 0, 0, 1, 1, 1, 1, 0, 0, 0], [0, 0, 0, 0, 1, 1, 0, 0, 0, 0], [0, 0, 0, 0, 0, 0, 0, 0, 0, 0], [0, 0, 0, 0, 0, 0, 0, 0, 0, 0]]\n"
          ]
        }
      ]
    }
  ]
}